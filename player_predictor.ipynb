{
 "cells": [
  {
   "cell_type": "code",
   "execution_count": 1,
   "metadata": {},
   "outputs": [
    {
     "name": "stdout",
     "output_type": "stream",
     "text": [
      "check work.\n"
     ]
    }
   ],
   "source": [
    "print(\"check work.\")"
   ]
  },
  {
   "cell_type": "code",
   "execution_count": 2,
   "metadata": {},
   "outputs": [],
   "source": [
    "import numpy as np\n",
    "import pandas as pd\n",
    "import matplotlib.pyplot as plt\n"
   ]
  },
  {
   "cell_type": "code",
   "execution_count": 3,
   "metadata": {},
   "outputs": [],
   "source": [
    "df = pd.read_csv(\"ESPN_IPL_clean.csv\")"
   ]
  },
  {
   "cell_type": "code",
   "execution_count": 4,
   "metadata": {},
   "outputs": [
    {
     "data": {
      "text/html": [
       "<div>\n",
       "<style scoped>\n",
       "    .dataframe tbody tr th:only-of-type {\n",
       "        vertical-align: middle;\n",
       "    }\n",
       "\n",
       "    .dataframe tbody tr th {\n",
       "        vertical-align: top;\n",
       "    }\n",
       "\n",
       "    .dataframe thead th {\n",
       "        text-align: right;\n",
       "    }\n",
       "</style>\n",
       "<table border=\"1\" class=\"dataframe\">\n",
       "  <thead>\n",
       "    <tr style=\"text-align: right;\">\n",
       "      <th></th>\n",
       "      <th>Unnamed: 0</th>\n",
       "      <th>Player</th>\n",
       "      <th>Span</th>\n",
       "      <th>Mat</th>\n",
       "      <th>Inns</th>\n",
       "      <th>NO</th>\n",
       "      <th>Runs</th>\n",
       "      <th>HS</th>\n",
       "      <th>Ave</th>\n",
       "      <th>BF</th>\n",
       "      <th>SR</th>\n",
       "      <th>100s</th>\n",
       "      <th>50s</th>\n",
       "      <th>0</th>\n",
       "      <th>4s</th>\n",
       "      <th>6s</th>\n",
       "      <th>Team Name</th>\n",
       "    </tr>\n",
       "  </thead>\n",
       "  <tbody>\n",
       "    <tr>\n",
       "      <th>0</th>\n",
       "      <td>0</td>\n",
       "      <td>V Kohli</td>\n",
       "      <td>2008-2023</td>\n",
       "      <td>237</td>\n",
       "      <td>229</td>\n",
       "      <td>34</td>\n",
       "      <td>7263</td>\n",
       "      <td>113</td>\n",
       "      <td>37.24</td>\n",
       "      <td>5586</td>\n",
       "      <td>130.02</td>\n",
       "      <td>7</td>\n",
       "      <td>50</td>\n",
       "      <td>10</td>\n",
       "      <td>643</td>\n",
       "      <td>234</td>\n",
       "      <td>RCB</td>\n",
       "    </tr>\n",
       "    <tr>\n",
       "      <th>1</th>\n",
       "      <td>1</td>\n",
       "      <td>S Dhawan</td>\n",
       "      <td>2008-2023</td>\n",
       "      <td>217</td>\n",
       "      <td>216</td>\n",
       "      <td>29</td>\n",
       "      <td>6617</td>\n",
       "      <td>106</td>\n",
       "      <td>35.38</td>\n",
       "      <td>5203</td>\n",
       "      <td>127.17</td>\n",
       "      <td>2</td>\n",
       "      <td>50</td>\n",
       "      <td>11</td>\n",
       "      <td>750</td>\n",
       "      <td>148</td>\n",
       "      <td>DC/MI/PBKS/SRH</td>\n",
       "    </tr>\n",
       "    <tr>\n",
       "      <th>2</th>\n",
       "      <td>2</td>\n",
       "      <td>DA Warner</td>\n",
       "      <td>2009-2023</td>\n",
       "      <td>176</td>\n",
       "      <td>176</td>\n",
       "      <td>22</td>\n",
       "      <td>6397</td>\n",
       "      <td>126</td>\n",
       "      <td>41.53</td>\n",
       "      <td>4572</td>\n",
       "      <td>139.91</td>\n",
       "      <td>4</td>\n",
       "      <td>61</td>\n",
       "      <td>11</td>\n",
       "      <td>646</td>\n",
       "      <td>226</td>\n",
       "      <td>DC/SRH</td>\n",
       "    </tr>\n",
       "    <tr>\n",
       "      <th>3</th>\n",
       "      <td>3</td>\n",
       "      <td>RG Sharma</td>\n",
       "      <td>2008-2023</td>\n",
       "      <td>243</td>\n",
       "      <td>238</td>\n",
       "      <td>28</td>\n",
       "      <td>6211</td>\n",
       "      <td>109</td>\n",
       "      <td>29.57</td>\n",
       "      <td>4776</td>\n",
       "      <td>130.04</td>\n",
       "      <td>1</td>\n",
       "      <td>42</td>\n",
       "      <td>16</td>\n",
       "      <td>554</td>\n",
       "      <td>257</td>\n",
       "      <td>DC/MI</td>\n",
       "    </tr>\n",
       "    <tr>\n",
       "      <th>4</th>\n",
       "      <td>4</td>\n",
       "      <td>SK Raina</td>\n",
       "      <td>2008-2021</td>\n",
       "      <td>205</td>\n",
       "      <td>200</td>\n",
       "      <td>30</td>\n",
       "      <td>5528</td>\n",
       "      <td>100</td>\n",
       "      <td>32.51</td>\n",
       "      <td>4043</td>\n",
       "      <td>136.73</td>\n",
       "      <td>1</td>\n",
       "      <td>39</td>\n",
       "      <td>8</td>\n",
       "      <td>506</td>\n",
       "      <td>203</td>\n",
       "      <td>CSK/GL</td>\n",
       "    </tr>\n",
       "  </tbody>\n",
       "</table>\n",
       "</div>"
      ],
      "text/plain": [
       "   Unnamed: 0     Player       Span  Mat  Inns  NO  Runs   HS    Ave    BF  \\\n",
       "0           0    V Kohli  2008-2023  237   229  34  7263  113  37.24  5586   \n",
       "1           1   S Dhawan  2008-2023  217   216  29  6617  106  35.38  5203   \n",
       "2           2  DA Warner  2009-2023  176   176  22  6397  126  41.53  4572   \n",
       "3           3  RG Sharma  2008-2023  243   238  28  6211  109  29.57  4776   \n",
       "4           4   SK Raina  2008-2021  205   200  30  5528  100  32.51  4043   \n",
       "\n",
       "       SR  100s  50s   0   4s   6s       Team Name  \n",
       "0  130.02     7   50  10  643  234             RCB  \n",
       "1  127.17     2   50  11  750  148  DC/MI/PBKS/SRH  \n",
       "2  139.91     4   61  11  646  226          DC/SRH  \n",
       "3  130.04     1   42  16  554  257           DC/MI  \n",
       "4  136.73     1   39   8  506  203          CSK/GL  "
      ]
     },
     "execution_count": 4,
     "metadata": {},
     "output_type": "execute_result"
    }
   ],
   "source": [
    "df.head()"
   ]
  },
  {
   "cell_type": "code",
   "execution_count": 5,
   "metadata": {},
   "outputs": [
    {
     "data": {
      "text/html": [
       "<div>\n",
       "<style scoped>\n",
       "    .dataframe tbody tr th:only-of-type {\n",
       "        vertical-align: middle;\n",
       "    }\n",
       "\n",
       "    .dataframe tbody tr th {\n",
       "        vertical-align: top;\n",
       "    }\n",
       "\n",
       "    .dataframe thead th {\n",
       "        text-align: right;\n",
       "    }\n",
       "</style>\n",
       "<table border=\"1\" class=\"dataframe\">\n",
       "  <thead>\n",
       "    <tr style=\"text-align: right;\">\n",
       "      <th></th>\n",
       "      <th>Players</th>\n",
       "      <th>Average</th>\n",
       "    </tr>\n",
       "  </thead>\n",
       "  <tbody>\n",
       "    <tr>\n",
       "      <th>0</th>\n",
       "      <td>V Kohli</td>\n",
       "      <td>37.24</td>\n",
       "    </tr>\n",
       "    <tr>\n",
       "      <th>1</th>\n",
       "      <td>S Dhawan</td>\n",
       "      <td>35.38</td>\n",
       "    </tr>\n",
       "    <tr>\n",
       "      <th>2</th>\n",
       "      <td>DA Warner</td>\n",
       "      <td>41.53</td>\n",
       "    </tr>\n",
       "    <tr>\n",
       "      <th>3</th>\n",
       "      <td>RG Sharma</td>\n",
       "      <td>29.57</td>\n",
       "    </tr>\n",
       "    <tr>\n",
       "      <th>4</th>\n",
       "      <td>SK Raina</td>\n",
       "      <td>32.51</td>\n",
       "    </tr>\n",
       "  </tbody>\n",
       "</table>\n",
       "</div>"
      ],
      "text/plain": [
       "     Players  Average\n",
       "0    V Kohli    37.24\n",
       "1   S Dhawan    35.38\n",
       "2  DA Warner    41.53\n",
       "3  RG Sharma    29.57\n",
       "4   SK Raina    32.51"
      ]
     },
     "execution_count": 5,
     "metadata": {},
     "output_type": "execute_result"
    }
   ],
   "source": [
    "# Creating a dataframe with only Player names and Averages \n",
    "df1 = pd.DataFrame(columns=(\"Players\",\"Average\"))\n",
    "# Getting records from original Dataframe\n",
    "df1[\"Players\"],df1[\"Average\"] = df[\"Player\"],df[\"Ave\"]\n",
    "df1.head()"
   ]
  },
  {
   "cell_type": "code",
   "execution_count": 6,
   "metadata": {},
   "outputs": [
    {
     "data": {
      "text/plain": [
       "(array([15., 55., 50., 25.,  5.]),\n",
       " array([11.71 , 19.412, 27.114, 34.816, 42.518, 50.22 ]),\n",
       " <BarContainer object of 5 artists>)"
      ]
     },
     "execution_count": 6,
     "metadata": {},
     "output_type": "execute_result"
    },
    {
     "data": {
      "image/png": "[encoded data removed]",
      "text/plain": [
       "<Figure size 640x480 with 1 Axes>"
      ]
     },
     "metadata": {},
     "output_type": "display_data"
    }
   ],
   "source": [
    "plt.hist(x=df1['Average'],bins=5)"
   ]
  },
  {
   "cell_type": "code",
   "execution_count": 7,
   "metadata": {},
   "outputs": [
    {
     "data": {
      "text/plain": [
       "<bound method NDFrame.describe of         Players  Average\n",
       "0       V Kohli    37.24\n",
       "1      S Dhawan    35.38\n",
       "2     DA Warner    41.53\n",
       "3     RG Sharma    29.57\n",
       "4      SK Raina    32.51\n",
       "..          ...      ...\n",
       "145     J Botha    20.45\n",
       "146   LR Shukla    15.00\n",
       "147  RM Patidar    40.40\n",
       "148   MK Lomror    19.14\n",
       "149  AL Menaria    19.09\n",
       "\n",
       "[150 rows x 2 columns]>"
      ]
     },
     "execution_count": 7,
     "metadata": {},
     "output_type": "execute_result"
    }
   ],
   "source": [
    "df1.describe"
   ]
  },
  {
   "cell_type": "code",
   "execution_count": 9,
   "metadata": {},
   "outputs": [],
   "source": [
    "from sklearn.model_selection import train_test_split\n",
    "from sklearn.ensemble import RandomForestClassifier\n",
    "from sklearn.metrics import accuracy_score, classification_report"
   ]
  },
  {
   "cell_type": "code",
   "execution_count": 13,
   "metadata": {},
   "outputs": [],
   "source": [
    "features = ['Average']\n",
    "target = 'Players'"
   ]
  },
  {
   "cell_type": "code",
   "execution_count": 14,
   "metadata": {},
   "outputs": [],
   "source": [
    "X_train, X_test, y_train, y_test = train_test_split(df1[features], df1[target], test_size=0.2, random_state=42)"
   ]
  },
  {
   "cell_type": "code",
   "execution_count": 52,
   "metadata": {},
   "outputs": [
    {
     "data": {
      "text/html": [
       "<style>#sk-container-id-2 {color: black;}#sk-container-id-2 pre{padding: 0;}#sk-container-id-2 div.sk-toggleable {background-color: white;}#sk-container-id-2 label.sk-toggleable__label {cursor: pointer;display: block;width: 100%;margin-bottom: 0;padding: 0.3em;box-sizing: border-box;text-align: center;}#sk-container-id-2 label.sk-toggleable__label-arrow:before {content: \"▸\";float: left;margin-right: 0.25em;color: #696969;}#sk-container-id-2 label.sk-toggleable__label-arrow:hover:before {color: black;}#sk-container-id-2 div.sk-estimator:hover label.sk-toggleable__label-arrow:before {color: black;}#sk-container-id-2 div.sk-toggleable__content {max-height: 0;max-width: 0;overflow: hidden;text-align: left;background-color: #f0f8ff;}#sk-container-id-2 div.sk-toggleable__content pre {margin: 0.2em;color: black;border-radius: 0.25em;background-color: #f0f8ff;}#sk-container-id-2 input.sk-toggleable__control:checked~div.sk-toggleable__content {max-height: 200px;max-width: 100%;overflow: auto;}#sk-container-id-2 input.sk-toggleable__control:checked~label.sk-toggleable__label-arrow:before {content: \"▾\";}#sk-container-id-2 div.sk-estimator input.sk-toggleable__control:checked~label.sk-toggleable__label {background-color: #d4ebff;}#sk-container-id-2 div.sk-label input.sk-toggleable__control:checked~label.sk-toggleable__label {background-color: #d4ebff;}#sk-container-id-2 input.sk-hidden--visually {border: 0;clip: rect(1px 1px 1px 1px);clip: rect(1px, 1px, 1px, 1px);height: 1px;margin: -1px;overflow: hidden;padding: 0;position: absolute;width: 1px;}#sk-container-id-2 div.sk-estimator {font-family: monospace;background-color: #f0f8ff;border: 1px dotted black;border-radius: 0.25em;box-sizing: border-box;margin-bottom: 0.5em;}#sk-container-id-2 div.sk-estimator:hover {background-color: #d4ebff;}#sk-container-id-2 div.sk-parallel-item::after {content: \"\";width: 100%;border-bottom: 1px solid gray;flex-grow: 1;}#sk-container-id-2 div.sk-label:hover label.sk-toggleable__label {background-color: #d4ebff;}#sk-container-id-2 div.sk-serial::before {content: \"\";position: absolute;border-left: 1px solid gray;box-sizing: border-box;top: 0;bottom: 0;left: 50%;z-index: 0;}#sk-container-id-2 div.sk-serial {display: flex;flex-direction: column;align-items: center;background-color: white;padding-right: 0.2em;padding-left: 0.2em;position: relative;}#sk-container-id-2 div.sk-item {position: relative;z-index: 1;}#sk-container-id-2 div.sk-parallel {display: flex;align-items: stretch;justify-content: center;background-color: white;position: relative;}#sk-container-id-2 div.sk-item::before, #sk-container-id-2 div.sk-parallel-item::before {content: \"\";position: absolute;border-left: 1px solid gray;box-sizing: border-box;top: 0;bottom: 0;left: 50%;z-index: -1;}#sk-container-id-2 div.sk-parallel-item {display: flex;flex-direction: column;z-index: 1;position: relative;background-color: white;}#sk-container-id-2 div.sk-parallel-item:first-child::after {align-self: flex-end;width: 50%;}#sk-container-id-2 div.sk-parallel-item:last-child::after {align-self: flex-start;width: 50%;}#sk-container-id-2 div.sk-parallel-item:only-child::after {width: 0;}#sk-container-id-2 div.sk-dashed-wrapped {border: 1px dashed gray;margin: 0 0.4em 0.5em 0.4em;box-sizing: border-box;padding-bottom: 0.4em;background-color: white;}#sk-container-id-2 div.sk-label label {font-family: monospace;font-weight: bold;display: inline-block;line-height: 1.2em;}#sk-container-id-2 div.sk-label-container {text-align: center;}#sk-container-id-2 div.sk-container {/* jupyter's `normalize.less` sets `[hidden] { display: none; }` but bootstrap.min.css set `[hidden] { display: none !important; }` so we also need the `!important` here to be able to override the default hidden behavior on the sphinx rendered scikit-learn.org. See: https://github.com/scikit-learn/scikit-learn/issues/21755 */display: inline-block !important;position: relative;}#sk-container-id-2 div.sk-text-repr-fallback {display: none;}</style><div id=\"sk-container-id-2\" class=\"sk-top-container\"><div class=\"sk-text-repr-fallback\"><pre>RandomForestClassifier(random_state=42)</pre><b>In a Jupyter environment, please rerun this cell to show the HTML representation or trust the notebook. <br />On GitHub, the HTML representation is unable to render, please try loading this page with nbviewer.org.</b></div><div class=\"sk-container\" hidden><div class=\"sk-item\"><div class=\"sk-estimator sk-toggleable\"><input class=\"sk-toggleable__control sk-hidden--visually\" id=\"sk-estimator-id-2\" type=\"checkbox\" checked><label for=\"sk-estimator-id-2\" class=\"sk-toggleable__label sk-toggleable__label-arrow\">RandomForestClassifier</label><div class=\"sk-toggleable__content\"><pre>RandomForestClassifier(random_state=42)</pre></div></div></div></div></div>"
      ],
      "text/plain": [
       "RandomForestClassifier(random_state=42)"
      ]
     },
     "execution_count": 52,
     "metadata": {},
     "output_type": "execute_result"
    }
   ],
   "source": [
    "rndfor = RandomForestClassifier(n_estimators=100,criterion=\"gini\",random_state=42)\n",
    "rndfor.fit(X_train,y_train)"
   ]
  },
  {
   "cell_type": "code",
   "execution_count": 53,
   "metadata": {},
   "outputs": [
    {
     "name": "stdout",
     "output_type": "stream",
     "text": [
      "Accuracy: 0.0\n"
     ]
    }
   ],
   "source": [
    "y_pred = rndfor.predict(X_test)\n",
    "# Evaluate the model\n",
    "accuracy = accuracy_score(y_test, y_pred)\n",
    "print(f'Accuracy: {accuracy}')\n"
   ]
  },
  {
   "cell_type": "code",
   "execution_count": 50,
   "metadata": {},
   "outputs": [
    {
     "name": "stdout",
     "output_type": "stream",
     "text": [
      "                   precision    recall  f1-score   support\n",
      "\n",
      "        A Symonds       0.00      0.00      0.00       0.0\n",
      "       AD Mathews       0.00      0.00      0.00       1.0\n",
      "         AR Patel       0.00      0.00      0.00       0.0\n",
      "        AT Rayudu       0.00      0.00      0.00       0.0\n",
      "  B Sai Sudharsan       0.00      0.00      0.00       1.0\n",
      "        BA Stokes       0.00      0.00      0.00       0.0\n",
      "         BJ Hodge       0.00      0.00      0.00       1.0\n",
      "        CH Morris       0.00      0.00      0.00       0.0\n",
      "         DR Smith       0.00      0.00      0.00       0.0\n",
      "        G Gambhir       0.00      0.00      0.00       1.0\n",
      "         GC Smith       0.00      0.00      0.00       1.0\n",
      "        GJ Bailey       0.00      0.00      0.00       0.0\n",
      "       GJ Maxwell       0.00      0.00      0.00       1.0\n",
      "  Gurkeerat Singh       0.00      0.00      0.00       1.0\n",
      "        IK Pathan       0.00      0.00      0.00       1.0\n",
      "          J Botha       0.00      0.00      0.00       1.0\n",
      "         JD Ryder       0.00      0.00      0.00       0.0\n",
      "      JM Bairstow       0.00      0.00      0.00       1.0\n",
      "        JM Sharma       0.00      0.00      0.00       0.0\n",
      "      JP Faulkner       0.00      0.00      0.00       1.0\n",
      "       KA Pollard       0.00      0.00      0.00       1.0\n",
      "       KD Karthik       0.00      0.00      0.00       1.0\n",
      "          KK Nair       0.00      0.00      0.00       0.0\n",
      "         KL Rahul       0.00      0.00      0.00       0.0\n",
      "      LRPL Taylor       0.00      0.00      0.00       0.0\n",
      "          M Vohra       0.00      0.00      0.00       1.0\n",
      "       MA Agarwal       0.00      0.00      0.00       0.0\n",
      "     MC Henriques       0.00      0.00      0.00       0.0\n",
      "        MK Tiwary       0.00      0.00      0.00       1.0\n",
      "       MP Stoinis       0.00      0.00      0.00       1.0\n",
      "         MR Marsh       0.00      0.00      0.00       0.0\n",
      "           N Rana       0.00      0.00      0.00       1.0\n",
      "          OA Shah       0.00      0.00      0.00       0.0\n",
      "          PP Shaw       0.00      0.00      0.00       1.0\n",
      "Prabhsimran Singh       0.00      0.00      0.00       1.0\n",
      "         R Dravid       0.00      0.00      0.00       1.0\n",
      "        R Tewatia       0.00      0.00      0.00       0.0\n",
      "        RA Jadeja       0.00      0.00      0.00       0.0\n",
      "        RG Sharma       0.00      0.00      0.00       0.0\n",
      "        RS Bopara       0.00      0.00      0.00       1.0\n",
      "       RV Uthappa       0.00      0.00      0.00       0.0\n",
      "      SA Asnodkar       0.00      0.00      0.00       0.0\n",
      "         SA Yadav       0.00      0.00      0.00       1.0\n",
      "       SC Ganguly       0.00      0.00      0.00       1.0\n",
      "         SK Raina       0.00      0.00      0.00       0.0\n",
      "        SM Curran       0.00      0.00      0.00       1.0\n",
      "        SR Watson       0.00      0.00      0.00       0.0\n",
      "          SS Iyer       0.00      0.00      0.00       0.0\n",
      "        SS Tiwary       0.00      0.00      0.00       0.0\n",
      "    ST Jayasuriya       0.00      0.00      0.00       0.0\n",
      "  Shakib Al Hasan       0.00      0.00      0.00       1.0\n",
      "         TH David       0.00      0.00      0.00       1.0\n",
      "         TL Suman       0.00      0.00      0.00       0.0\n",
      "         V Sehwag       0.00      0.00      0.00       1.0\n",
      "          WP Saha       0.00      0.00      0.00       1.0\n",
      "      YBK Jaiswal       0.00      0.00      0.00       1.0\n",
      "     Yuvraj Singh       0.00      0.00      0.00       1.0\n",
      "\n",
      "         accuracy                           0.00      30.0\n",
      "        macro avg       0.00      0.00      0.00      30.0\n",
      "     weighted avg       0.00      0.00      0.00      30.0\n",
      "\n"
     ]
    },
    {
     "name": "stderr",
     "output_type": "stream",
     "text": [
      "c:\\Users\\HP\\AppData\\Local\\Programs\\Python\\Python310\\lib\\site-packages\\sklearn\\metrics\\_classification.py:1469: UndefinedMetricWarning: Precision and F-score are ill-defined and being set to 0.0 in labels with no predicted samples. Use `zero_division` parameter to control this behavior.\n",
      "  _warn_prf(average, modifier, msg_start, len(result))\n",
      "c:\\Users\\HP\\AppData\\Local\\Programs\\Python\\Python310\\lib\\site-packages\\sklearn\\metrics\\_classification.py:1469: UndefinedMetricWarning: Recall and F-score are ill-defined and being set to 0.0 in labels with no true samples. Use `zero_division` parameter to control this behavior.\n",
      "  _warn_prf(average, modifier, msg_start, len(result))\n",
      "c:\\Users\\HP\\AppData\\Local\\Programs\\Python\\Python310\\lib\\site-packages\\sklearn\\metrics\\_classification.py:1469: UndefinedMetricWarning: Precision and F-score are ill-defined and being set to 0.0 in labels with no predicted samples. Use `zero_division` parameter to control this behavior.\n",
      "  _warn_prf(average, modifier, msg_start, len(result))\n",
      "c:\\Users\\HP\\AppData\\Local\\Programs\\Python\\Python310\\lib\\site-packages\\sklearn\\metrics\\_classification.py:1469: UndefinedMetricWarning: Recall and F-score are ill-defined and being set to 0.0 in labels with no true samples. Use `zero_division` parameter to control this behavior.\n",
      "  _warn_prf(average, modifier, msg_start, len(result))\n",
      "c:\\Users\\HP\\AppData\\Local\\Programs\\Python\\Python310\\lib\\site-packages\\sklearn\\metrics\\_classification.py:1469: UndefinedMetricWarning: Precision and F-score are ill-defined and being set to 0.0 in labels with no predicted samples. Use `zero_division` parameter to control this behavior.\n",
      "  _warn_prf(average, modifier, msg_start, len(result))\n",
      "c:\\Users\\HP\\AppData\\Local\\Programs\\Python\\Python310\\lib\\site-packages\\sklearn\\metrics\\_classification.py:1469: UndefinedMetricWarning: Recall and F-score are ill-defined and being set to 0.0 in labels with no true samples. Use `zero_division` parameter to control this behavior.\n",
      "  _warn_prf(average, modifier, msg_start, len(result))\n"
     ]
    }
   ],
   "source": [
    "# classification report \n",
    "print(classification_report(y_test, y_pred))\n"
   ]
  },
  {
   "cell_type": "code",
   "execution_count": 54,
   "metadata": {},
   "outputs": [
    {
     "name": "stderr",
     "output_type": "stream",
     "text": [
      "c:\\Users\\HP\\AppData\\Local\\Programs\\Python\\Python310\\lib\\site-packages\\sklearn\\base.py:464: UserWarning: X does not have valid feature names, but RandomForestClassifier was fitted with feature names\n",
      "  warnings.warn(\n"
     ]
    },
    {
     "data": {
      "text/plain": [
       "array(['RM Patidar'], dtype=object)"
      ]
     },
     "execution_count": 54,
     "metadata": {},
     "output_type": "execute_result"
    }
   ],
   "source": [
    "rndfor.predict([[40.7]])"
   ]
  },
  {
   "cell_type": "code",
   "execution_count": null,
   "metadata": {},
   "outputs": [],
   "source": []
  }
 ],
 "metadata": {
  "kernelspec": {
   "display_name": ".venv",
   "language": "python",
   "name": "python3"
  },
  "language_info": {
   "codemirror_mode": {
    "name": "ipython",
    "version": 3
   },
   "file_extension": ".py",
   "mimetype": "text/x-python",
   "name": "python",
   "nbconvert_exporter": "python",
   "pygments_lexer": "ipython3",
   "version": "3.10.7"
  }
 },
 "nbformat": 4,
 "nbformat_minor": 2
}
